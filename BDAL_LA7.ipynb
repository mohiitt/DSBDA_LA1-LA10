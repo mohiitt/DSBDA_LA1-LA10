{
 "cells": [
  {
   "cell_type": "code",
   "execution_count": 57,
   "id": "f4d328ef",
   "metadata": {},
   "outputs": [
    {
     "name": "stderr",
     "output_type": "stream",
     "text": [
      "[nltk_data] Downloading package punkt to\n",
      "[nltk_data]     C:\\Users\\Admin\\AppData\\Roaming\\nltk_data...\n",
      "[nltk_data]   Package punkt is already up-to-date!\n",
      "[nltk_data] Downloading package averaged_perceptron_tagger to\n",
      "[nltk_data]     C:\\Users\\Admin\\AppData\\Roaming\\nltk_data...\n",
      "[nltk_data]   Package averaged_perceptron_tagger is already up-to-\n",
      "[nltk_data]       date!\n",
      "[nltk_data] Downloading package stopwords to\n",
      "[nltk_data]     C:\\Users\\Admin\\AppData\\Roaming\\nltk_data...\n",
      "[nltk_data]   Package stopwords is already up-to-date!\n",
      "[nltk_data] Downloading package wordnet to\n",
      "[nltk_data]     C:\\Users\\Admin\\AppData\\Roaming\\nltk_data...\n"
     ]
    },
    {
     "data": {
      "text/plain": [
       "True"
      ]
     },
     "execution_count": 57,
     "metadata": {},
     "output_type": "execute_result"
    }
   ],
   "source": [
    "import nltk\n",
    "nltk.download('punkt')  \n",
    "nltk.download('averaged_perceptron_tagger')\n",
    "nltk.download('stopwords')\n",
    "nltk.download('wordnet')"
   ]
  },
  {
   "cell_type": "code",
   "execution_count": 2,
   "id": "46366249",
   "metadata": {},
   "outputs": [],
   "source": [
    "doc=\"I wanted to play cricket but it is raining outside\""
   ]
  },
  {
   "cell_type": "code",
   "execution_count": 41,
   "id": "9a492ed4",
   "metadata": {},
   "outputs": [
    {
     "name": "stdout",
     "output_type": "stream",
     "text": [
      "['I', 'wanted', 'to', 'play', 'cricket', 'but', 'it', 'is', 'raining', 'outside']\n"
     ]
    }
   ],
   "source": [
    "print(word_tokenize(doc))\n",
    "token=word_tokenize(doc)"
   ]
  },
  {
   "cell_type": "code",
   "execution_count": 42,
   "id": "fc19e6b0",
   "metadata": {},
   "outputs": [
    {
     "name": "stdout",
     "output_type": "stream",
     "text": [
      "[('I', 'PRP'), ('wanted', 'VBD'), ('to', 'TO'), ('play', 'VB'), ('cricket', 'NN'), ('but', 'CC'), ('it', 'PRP'), ('is', 'VBZ'), ('raining', 'VBG'), ('outside', 'JJ')]\n"
     ]
    }
   ],
   "source": [
    "tagged=pos_tag(token)\n",
    "print(tagged)"
   ]
  },
  {
   "cell_type": "code",
   "execution_count": 46,
   "id": "68381706",
   "metadata": {},
   "outputs": [
    {
     "name": "stdout",
     "output_type": "stream",
     "text": [
      "['i', 'me', 'my', 'myself', 'we', 'our', 'ours', 'ourselves', 'you', \"you're\", \"you've\", \"you'll\", \"you'd\", 'your', 'yours', 'yourself', 'yourselves', 'he', 'him', 'his', 'himself', 'she', \"she's\", 'her', 'hers', 'herself', 'it', \"it's\", 'its', 'itself', 'they', 'them', 'their', 'theirs', 'themselves', 'what', 'which', 'who', 'whom', 'this', 'that', \"that'll\", 'these', 'those', 'am', 'is', 'are', 'was', 'were', 'be', 'been', 'being', 'have', 'has', 'had', 'having', 'do', 'does', 'did', 'doing', 'a', 'an', 'the', 'and', 'but', 'if', 'or', 'because', 'as', 'until', 'while', 'of', 'at', 'by', 'for', 'with', 'about', 'against', 'between', 'into', 'through', 'during', 'before', 'after', 'above', 'below', 'to', 'from', 'up', 'down', 'in', 'out', 'on', 'off', 'over', 'under', 'again', 'further', 'then', 'once', 'here', 'there', 'when', 'where', 'why', 'how', 'all', 'any', 'both', 'each', 'few', 'more', 'most', 'other', 'some', 'such', 'no', 'nor', 'not', 'only', 'own', 'same', 'so', 'than', 'too', 'very', 's', 't', 'can', 'will', 'just', 'don', \"don't\", 'should', \"should've\", 'now', 'd', 'll', 'm', 'o', 're', 've', 'y', 'ain', 'aren', \"aren't\", 'couldn', \"couldn't\", 'didn', \"didn't\", 'doesn', \"doesn't\", 'hadn', \"hadn't\", 'hasn', \"hasn't\", 'haven', \"haven't\", 'isn', \"isn't\", 'ma', 'mightn', \"mightn't\", 'mustn', \"mustn't\", 'needn', \"needn't\", 'shan', \"shan't\", 'shouldn', \"shouldn't\", 'wasn', \"wasn't\", 'weren', \"weren't\", 'won', \"won't\", 'wouldn', \"wouldn't\"]\n"
     ]
    }
   ],
   "source": [
    "from nltk.corpus import stopwords\n",
    "stop_words=stopwords.words('english')\n",
    "print(stop_words)"
   ]
  },
  {
   "cell_type": "code",
   "execution_count": 54,
   "id": "d5d8e050",
   "metadata": {},
   "outputs": [
    {
     "name": "stdout",
     "output_type": "stream",
     "text": [
      "cleaned version ['I', 'wanted', 'play', 'cricket', 'raining', 'outside']\n"
     ]
    }
   ],
   "source": [
    "cleaned_token=[]\n",
    "\n",
    "for word in token:\n",
    "    if word not in stop_words:\n",
    "        cleaned_token.append(word)\n",
    "print(\"cleaned version\",cleaned_token)        "
   ]
  },
  {
   "cell_type": "code",
   "execution_count": 52,
   "id": "d7f1ac7e",
   "metadata": {},
   "outputs": [
    {
     "name": "stdout",
     "output_type": "stream",
     "text": [
      "['i', 'want', 'play', 'cricket', 'rain', 'outsid']\n"
     ]
    }
   ],
   "source": [
    "from nltk.stem import PorterStemmer\n",
    "stemmer=PorterStemmer()\n",
    "stemmed=[stemmer.stem(word) for word in cleaned_token]\n",
    "print(stemmed)"
   ]
  },
  {
   "cell_type": "code",
   "execution_count": 79,
   "id": "fef89f9f",
   "metadata": {},
   "outputs": [
    {
     "name": "stdout",
     "output_type": "stream",
     "text": [
      "['I', 'want', 'to', 'play', 'cricket', 'but', 'it', 'be', 'rain', 'outside']\n"
     ]
    }
   ],
   "source": [
    "lemmatizer = WordNetLemmatizer()\n",
    "\n",
    "# Lemmatize each token based on its POS tag\n",
    "lemmatized_tokens = []\n",
    "for token, pos_tag in tagged:\n",
    "    pos_tag = pos_tag[0].lower() if pos_tag[0].lower() in ['a', 'r', 'n', 'v'] else 'n'  # Mapping POS tags to WordNet POS tags\n",
    "    lemmatized_token = lemmatizer.lemmatize(token, pos=pos_tag)\n",
    "    lemmatized_tokens.append(lemmatized_token)\n",
    "\n",
    "print(lemmatized_tokens)\n",
    "\n",
    "#explanation:\n",
    "\n",
    "#for token, pos_tag in tagged:: This loop iterates over each token and its corresponding part-of-speech (POS) tag obtained from the pos_tags list.\n",
    "#pos_tag = pos_tag[0].lower() if pos_tag[0].lower() in ['a', 'r', 'n', 'v'] else 'n':\n",
    "#Here, we check the first character of the POS tag (lowercased) to determine if it falls into one of the categories ['a', 'r', 'n', 'v']. \n",
    "#These categories correspond to adjective, adverb, noun, and verb respectively.\n",
    "#If it does, we keep it as is. Otherwise, we default it to 'n', which represents a noun. \n",
    "#This is necessary because the NLTK WordNet lemmatizer expects POS tags in the format used by WordNet, and NLTK's POS tagger returns POS tags in a different format.\n",
    "\n",
    "\n",
    "\n"
   ]
  },
  {
   "cell_type": "code",
   "execution_count": 19,
   "id": "8815340b",
   "metadata": {},
   "outputs": [
    {
     "name": "stdout",
     "output_type": "stream",
     "text": [
      "{'wanted': 8, 'to': 7, 'play': 5, 'cricket': 1, 'but': 0, 'it': 3, 'is': 2, 'raining': 6, 'outside': 4}\n",
      "  (0, 4)\t0.3333333333333333\n",
      "  (0, 6)\t0.3333333333333333\n",
      "  (0, 2)\t0.3333333333333333\n",
      "  (0, 3)\t0.3333333333333333\n",
      "  (0, 0)\t0.3333333333333333\n",
      "  (0, 1)\t0.3333333333333333\n",
      "  (0, 5)\t0.3333333333333333\n",
      "  (0, 7)\t0.3333333333333333\n",
      "  (0, 8)\t0.3333333333333333\n",
      "but : 1.0\n",
      "cricket : 1.0\n",
      "is : 1.0\n",
      "it : 1.0\n",
      "outside : 1.0\n",
      "play : 1.0\n",
      "raining : 1.0\n",
      "to : 1.0\n",
      "wanted : 1.0\n"
     ]
    }
   ],
   "source": [
    "from sklearn.feature_extraction.text import TfidfVectorizer\n",
    "vectorizer = TfidfVectorizer()\n",
    "vectorized_docs = vectorizer.fit_transform([doc])\n",
    "print(vectorizer.vocabulary_)#word_indices\n",
    "print(vectorized_docs)#tuples(document_index,word_indes)\n",
    "for term,idf in zip(vectorizer.get_feature_names(),vectorizer.idf_):\n",
    "    print(term,\":\",idf)"
   ]
  }
 ],
 "metadata": {
  "kernelspec": {
   "display_name": "Python 3 (ipykernel)",
   "language": "python",
   "name": "python3"
  },
  "language_info": {
   "codemirror_mode": {
    "name": "ipython",
    "version": 3
   },
   "file_extension": ".py",
   "mimetype": "text/x-python",
   "name": "python",
   "nbconvert_exporter": "python",
   "pygments_lexer": "ipython3",
   "version": "3.9.7"
  }
 },
 "nbformat": 4,
 "nbformat_minor": 5
}
